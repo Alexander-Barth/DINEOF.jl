{
 "cells": [
  {
   "cell_type": "code",
   "execution_count": null,
   "metadata": {
    "collapsed": true
   },
   "outputs": [],
   "source": [
    "Typical sequence of DINEOF use\n",
    "\n",
    "read some data and prepare the data array\n",
    "\n",
    "make some preliminary tests to see which dimensions to collaps (or you know it anyway)\n",
    "\n",
    "make a first analysis \n",
    "\n",
    "perform a quality check\n",
    "\n",
    "take out suspect data and redo an analysis with restart\n"
   ]
  }
 ],
 "metadata": {
  "anaconda-cloud": {},
  "kernelspec": {
   "display_name": "Julia 1.2.0",
   "language": "julia",
   "name": "julia-1.2"
  },
  "language_info": {
   "file_extension": ".jl",
   "mimetype": "application/julia",
   "name": "julia",
   "version": "1.2.0"
  }
 },
 "nbformat": 4,
 "nbformat_minor": 1
}
