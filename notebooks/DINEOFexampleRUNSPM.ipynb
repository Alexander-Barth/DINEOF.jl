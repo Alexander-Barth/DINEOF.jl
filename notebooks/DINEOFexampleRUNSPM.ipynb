{
 "cells": [
  {
   "cell_type": "markdown",
   "metadata": {},
   "source": [
    "# Full example"
   ]
  },
  {
   "cell_type": "code",
   "execution_count": 1,
   "metadata": {
    "collapsed": false
   },
   "outputs": [
    {
     "name": "stderr",
     "output_type": "stream",
     "text": [
      "┌ Info: Recompiling stale cache file C:\\Users\\jmbeckers\\.julia\\compiled\\v1.2\\DINEOF.ji for DINEOF [top-level]\n",
      "└ @ Base loading.jl:1240\n"
     ]
    }
   ],
   "source": [
    "push!(LOAD_PATH,\"C:/JMB/DINEOF.jl/src\",\".\"); using DINEOF\n",
    "using PyPlot\n",
    "using LinearAlgebra\n",
    "using Arpack\n",
    "using Statistics\n",
    "using Optim\n",
    "using NCDatasets\n",
    "using FTPClient"
   ]
  },
  {
   "cell_type": "markdown",
   "metadata": {},
   "source": [
    "## Get a nice data cube and look at it"
   ]
  },
  {
   "cell_type": "code",
   "execution_count": 2,
   "metadata": {
    "collapsed": false
   },
   "outputs": [
    {
     "data": {
      "text/plain": [
       "\"c:/Users/JMBECKERS/Downloads/SPMCT.nc\""
      ]
     },
     "execution_count": 2,
     "metadata": {},
     "output_type": "execute_result"
    }
   ],
   "source": [
    "fname=\"c:/Users/JMBECKERS/Downloads/SPMCT.nc\"\n"
   ]
  },
  {
   "cell_type": "code",
   "execution_count": 3,
   "metadata": {
    "collapsed": false
   },
   "outputs": [
    {
     "data": {
      "text/plain": [
       "\u001b[31mDataset: c:\\Users\\JMBECKERS\\Downloads\\SPMCT.nc\u001b[39m\n",
       "Group: /\n",
       "\n",
       "\u001b[31mDimensions\u001b[39m\n",
       "   time = 366\n",
       "   lat = 124\n",
       "   lon = 115\n",
       "\n",
       "\u001b[31mVariables\u001b[39m\n",
       "\u001b[32m  time\u001b[39m   (366)\n",
       "    Datatype:    Float64\n",
       "    Dimensions:  time\n",
       "    Attributes:\n",
       "     units                = \u001b[34mseconds since 1970-1-1\u001b[39m\n",
       "     calendar             = \u001b[34mgregorian\u001b[39m\n",
       "     standard_name        = \u001b[34mtime\u001b[39m\n",
       "\n",
       "\u001b[32m  coverage\u001b[39m   (366)\n",
       "    Datatype:    Float64\n",
       "    Dimensions:  time\n",
       "    Attributes:\n",
       "     long_name            = \u001b[34mPercentage of valid pixels\u001b[39m\n",
       "     valid_min            = \u001b[34m0.0\u001b[39m\n",
       "     valid_max            = \u001b[34m100.0\u001b[39m\n",
       "\n",
       "\u001b[32m  lat\u001b[39m   (124)\n",
       "    Datatype:    Float64\n",
       "    Dimensions:  lat\n",
       "    Attributes:\n",
       "     units                = \u001b[34mdegrees north\u001b[39m\n",
       "     standard_name        = \u001b[34mlatitude\u001b[39m\n",
       "\n",
       "\u001b[32m  lon\u001b[39m   (115)\n",
       "    Datatype:    Float64\n",
       "    Dimensions:  lon\n",
       "    Attributes:\n",
       "     units                = \u001b[34mdegrees east\u001b[39m\n",
       "     standard_name        = \u001b[34mlongitude\u001b[39m\n",
       "\n",
       "\u001b[32m  spm\u001b[39m   (115 × 124 × 366)\n",
       "    Datatype:    Float64\n",
       "    Dimensions:  lon × lat × time\n",
       "    Attributes:\n",
       "     _FillValue           = \u001b[34m-999.0\u001b[39m\n",
       "     units                = \u001b[34mg m-3\u001b[39m\n",
       "     long_name            = \u001b[34mSuspended Particulate Matter\u001b[39m\n",
       "     standard_name        = \u001b[34mmass_concentration_of_suspended_matter_in_sea_water\u001b[39m\n",
       "     valid_min            = \u001b[34m0.0\u001b[39m\n",
       "     valid_max            = \u001b[34m100.0\u001b[39m\n",
       "     missing_value        = \u001b[34m-999.0\u001b[39m\n",
       "\n",
       "\u001b[32m  logspm\u001b[39m   (115 × 124 × 366)\n",
       "    Datatype:    Float64\n",
       "    Dimensions:  lon × lat × time\n",
       "    Attributes:\n",
       "     _FillValue           = \u001b[34m-999.0\u001b[39m\n",
       "     long_name            = \u001b[34mLogarithm of the suspended Particulate Matter\u001b[39m\n",
       "     standard_name        = \u001b[34mmass_concentration_of_suspended_matter_in_sea_water\u001b[39m\n",
       "     missing_value        = \u001b[34m-999.0\u001b[39m\n",
       "\n",
       "\u001b[32m  mask\u001b[39m   (115 × 124)\n",
       "    Datatype:    Float64\n",
       "    Dimensions:  lon × lat\n",
       "    Attributes:\n",
       "     long_name            = \u001b[34mMask\u001b[39m\n",
       "\n",
       "\u001b[31mGlobal attributes\u001b[39m\n",
       "  description          = \u001b[34mSPM concentration reinterpolated on a common grid\u001b[39m\n",
       "  history              = \u001b[34mCreated 2019-11-28T15:53:07\u001b[39m\n",
       "  author               = \u001b[34mctroupin\u001b[39m\n",
       "  institute            = \u001b[34mGHER, University of Liege\u001b[39m\n",
       "  project              = \u001b[34mMULTI-SYNC\u001b[39m\n",
       "  script               = \u001b[34m/home/ctroupin/Projects/2019_Multisync/DINEOF-Multisync/dineof_multisync.py\u001b[39m\n"
      ]
     },
     "execution_count": 3,
     "metadata": {},
     "output_type": "execute_result"
    }
   ],
   "source": [
    "ds=Dataset(fname)"
   ]
  },
  {
   "cell_type": "code",
   "execution_count": 4,
   "metadata": {
    "collapsed": false
   },
   "outputs": [
    {
     "data": {
      "text/plain": [
       "3495799-element view(reshape(::Array{Union{Missing, Float64},3}, 5219160), [1, 57, 58, 59, 60, 61, 62, 63, 75, 116  …  5219151, 5219152, 5219153, 5219154, 5219155, 5219156, 5219157, 5219158, 5219159, 5219160]) with eltype Union{Missing, Float64}:\n",
       " NaN\n",
       " NaN\n",
       " NaN\n",
       " NaN\n",
       " NaN\n",
       " NaN\n",
       " NaN\n",
       " NaN\n",
       " NaN\n",
       " NaN\n",
       " NaN\n",
       " NaN\n",
       " NaN\n",
       "   ⋮\n",
       " NaN\n",
       " NaN\n",
       " NaN\n",
       " NaN\n",
       " NaN\n",
       " NaN\n",
       " NaN\n",
       " NaN\n",
       " NaN\n",
       " NaN\n",
       " NaN\n",
       " NaN"
      ]
     },
     "execution_count": 4,
     "metadata": {},
     "output_type": "execute_result"
    }
   ],
   "source": [
    "spm=ds[\"spm\"][:]\n",
    "spm[ismissing.(spm)].=NaN"
   ]
  },
  {
   "cell_type": "code",
   "execution_count": 5,
   "metadata": {
    "collapsed": false
   },
   "outputs": [
    {
     "data": {
      "text/plain": [
       "4.483804048101992"
      ]
     },
     "execution_count": 5,
     "metadata": {},
     "output_type": "execute_result"
    }
   ],
   "source": [
    "meanspm=mean(spm[.!isnan.(spm)])"
   ]
  },
  {
   "cell_type": "code",
   "execution_count": null,
   "metadata": {
    "collapsed": true
   },
   "outputs": [],
   "source": []
  },
  {
   "cell_type": "code",
   "execution_count": 6,
   "metadata": {
    "collapsed": false
   },
   "outputs": [
    {
     "data": {
      "image/png": "[encoded data removed]",
      "text/plain": [
       "Figure(PyObject <Figure size 640x480 with 1 Axes>)"
      ]
     },
     "metadata": {},
     "output_type": "display_data"
    },
    {
     "data": {
      "text/plain": [
       "PyObject <matplotlib.collections.PolyCollection object at 0x0000000035D33630>"
      ]
     },
     "execution_count": 6,
     "metadata": {},
     "output_type": "execute_result"
    }
   ],
   "source": [
    "pcolor(spm[:,:,10]')"
   ]
  },
  {
   "cell_type": "markdown",
   "metadata": {},
   "source": [
    "## Make a first analysis with only a limited number of EOFs"
   ]
  },
  {
   "cell_type": "code",
   "execution_count": null,
   "metadata": {
    "collapsed": false
   },
   "outputs": [
    {
     "name": "stdout",
     "output_type": "stream",
     "text": [
      "Raw data variance and mean: 44.369489491157815 and 4.483804048101992\n",
      "Number of missing points (including possible masks): 3495799 out of 5219160\n",
      "Number of data points before elimination of low coverage regions is 1723361 and cv fraction 0.010205058603507913\n",
      "Number of data points after elimination of low coverage regions is 1655503 and cv fraction 0.010183007823000018\n"
     ]
    }
   ],
   "source": [
    "@time offset,XA,U,S,V,cvEOF,cvarray,errmap,musquare=DINEOFrun(spm,[1,1,2];eofmax=10)\n",
    "@show S,sum(S),offset\n",
    "\n",
    "pcolor(U[4][1]),colorbar()\n",
    "figure()\n",
    "plot(V[4][1])"
   ]
  },
  {
   "cell_type": "code",
   "execution_count": null,
   "metadata": {
    "collapsed": false
   },
   "outputs": [],
   "source": [
    "@time offset,XA,U,S,V,cvEOF,cvarray,errmap,musquare=DINEOFrun(spm,[1,2,1];eofmax=10)\n",
    "@show S,sum(S),offset\n",
    "\n",
    "pcolor(U[4][1]),colorbar()\n",
    "figure()\n",
    "plot(V[4][1])"
   ]
  },
  {
   "cell_type": "code",
   "execution_count": null,
   "metadata": {
    "collapsed": false
   },
   "outputs": [],
   "source": [
    "@time offset,XA,U,S,V,cvEOF,cvarray,errmap,musquare=DINEOFrun(spm,[2,1,1];eofmax=10)\n",
    "@show S,sum(S),offset\n",
    "\n",
    "pcolor(U[4][1]),colorbar()\n",
    "figure()\n",
    "plot(V[4][1])"
   ]
  },
  {
   "cell_type": "markdown",
   "metadata": {},
   "source": [
    "## Decide which directions to collapse and make a full analysis"
   ]
  },
  {
   "cell_type": "markdown",
   "metadata": {},
   "source": [
    "In this example the classical space time decomposition seems to work. So lets try and add a time filter onto it with cross-validation by clouds.\n",
    "\n"
   ]
  },
  {
   "cell_type": "code",
   "execution_count": null,
   "metadata": {
    "collapsed": false
   },
   "outputs": [],
   "source": [
    "@time offset,XA,U,S,V,cvEOF,cvarray,errmap,musquare=DINEOFrun(spm,[1,1,2];minimumcoverage=[0.05,0.01],filter=\"vpmf\",filterrepetitions=3,cvmethod=\"CopyMask\")\n",
    "@show S,sum(S),offset\n",
    "\n",
    "pcolor(U[4][1]),colorbar()\n",
    "figure()\n",
    "plot(V[4][1])"
   ]
  },
  {
   "cell_type": "markdown",
   "metadata": {},
   "source": [
    "## Apply QC and take out suspect points (put NaN)"
   ]
  },
  {
   "cell_type": "code",
   "execution_count": null,
   "metadata": {
    "collapsed": false
   },
   "outputs": [],
   "source": [
    "OO=DINEOF_pmQC(spm,XA.+offset,errmap,musquare,4)\n",
    "@show mean(OO[.!isnan.(OO)])\n",
    "pcolor(OO[:,:,1]),colorbar()\n",
    "figure()\n",
    "pcolor(spm[:,:,1]),colorbar()"
   ]
  },
  {
   "cell_type": "code",
   "execution_count": null,
   "metadata": {
    "collapsed": false
   },
   "outputs": [],
   "source": [
    "sum(OO.>5)/sum(.!isnan.(spm))*100"
   ]
  },
  {
   "cell_type": "markdown",
   "metadata": {},
   "source": [
    "## Redo the decomposition but by restarting"
   ]
  },
  {
   "cell_type": "markdown",
   "metadata": {},
   "source": [
    "With a time filter you can accept possibly empty images (so coverage for fixed time can be zero"
   ]
  },
  {
   "cell_type": "code",
   "execution_count": null,
   "metadata": {
    "collapsed": false
   },
   "outputs": [],
   "source": [
    "sum(isnan.(XA))"
   ]
  },
  {
   "cell_type": "code",
   "execution_count": null,
   "metadata": {
    "collapsed": false
   },
   "outputs": [],
   "source": [
    "prod(size(XA))"
   ]
  },
  {
   "cell_type": "code",
   "execution_count": null,
   "metadata": {
    "collapsed": true
   },
   "outputs": [],
   "source": [
    "spmf=deepcopy(spm)\n",
    "spmf[OO.>5].=NaN\n",
    "@show sum(isnan.(spmf)),sum(isnan.(spm))\n",
    "@time offset,XA,U,S,V,cvEOF,cvarray,errmap,musquare=DINEOFrun(spmf,[1,1,2];restart=XA.+offset,eofstart=size(S)[1]-3,minimumcoverage=[0.05,0.00],filter=\"vpmf\",filterrepetitions=3,cvmethod=\"CopyMask\")\n",
    "@show S,sum(S),offset"
   ]
  },
  {
   "cell_type": "code",
   "execution_count": null,
   "metadata": {
    "collapsed": false
   },
   "outputs": [],
   "source": [
    "pcolor(U[2][1]),colorbar()\n",
    "figure()\n",
    "plot(V[1][1])"
   ]
  },
  {
   "cell_type": "markdown",
   "metadata": {},
   "source": [
    "## Look at error field"
   ]
  },
  {
   "cell_type": "code",
   "execution_count": null,
   "metadata": {
    "collapsed": false
   },
   "outputs": [],
   "source": [
    "pcolor(errmap[:,:,303]),colorbar()\n",
    "figure()\n",
    "pcolor(spm[:,:,303]),colorbar()\n",
    "\n"
   ]
  },
  {
   "cell_type": "markdown",
   "metadata": {},
   "source": [
    "## Fuse the original data and the reconstruction to look at the effect"
   ]
  },
  {
   "cell_type": "code",
   "execution_count": null,
   "metadata": {
    "collapsed": false
   },
   "outputs": [],
   "source": [
    "pcolor(XA[:,:,303]),colorbar()"
   ]
  },
  {
   "cell_type": "code",
   "execution_count": null,
   "metadata": {
    "collapsed": false
   },
   "outputs": [],
   "source": [
    "pcolor(spm[:,:,304]),colorbar()"
   ]
  },
  {
   "cell_type": "code",
   "execution_count": null,
   "metadata": {
    "collapsed": false
   },
   "outputs": [],
   "source": [
    "pcolor(spmf[:,:,304]),colorbar()"
   ]
  },
  {
   "cell_type": "code",
   "execution_count": null,
   "metadata": {
    "collapsed": true
   },
   "outputs": [],
   "source": [
    "DINEOF_fuse!(spmf,XA,4)"
   ]
  },
  {
   "cell_type": "code",
   "execution_count": null,
   "metadata": {
    "collapsed": true
   },
   "outputs": [],
   "source": [
    "pcolor(spmf[:,:,304]),colorbar()"
   ]
  }
 ],
 "metadata": {
  "anaconda-cloud": {},
  "kernelspec": {
   "display_name": "Julia 1.2.0",
   "language": "julia",
   "name": "julia-1.2"
  },
  "language_info": {
   "file_extension": ".jl",
   "mimetype": "application/julia",
   "name": "julia",
   "version": "1.2.0"
  }
 },
 "nbformat": 4,
 "nbformat_minor": 1
}
